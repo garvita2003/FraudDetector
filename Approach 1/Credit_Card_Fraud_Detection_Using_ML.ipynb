{
  "nbformat": 4,
  "nbformat_minor": 0,
  "metadata": {
    "colab": {
      "provenance": []
    },
    "kernelspec": {
      "name": "python3",
      "display_name": "Python 3"
    },
    "language_info": {
      "name": "python"
    }
  },
  "cells": [
    {
      "cell_type": "markdown",
      "source": [
        "## Import the necessary libraries"
      ],
      "metadata": {
        "id": "7MsyIlShezDn"
      }
    },
    {
      "cell_type": "code",
      "execution_count": 18,
      "metadata": {
        "id": "sX4eg_L9eRYq"
      },
      "outputs": [],
      "source": [
        "import pandas as pd\n",
        "from sklearn.model_selection import train_test_split\n",
        "from sklearn.preprocessing import StandardScaler\n",
        "from sklearn.ensemble import RandomForestClassifier\n",
        "from sklearn.linear_model import LogisticRegression\n",
        "from sklearn.tree import DecisionTreeClassifier\n",
        "from sklearn.svm import SVC\n",
        "from sklearn.neighbors import KNeighborsClassifier\n",
        "from sklearn.metrics import accuracy_score, confusion_matrix, classification_report"
      ]
    },
    {
      "cell_type": "markdown",
      "source": [
        "## Load the Dataset"
      ],
      "metadata": {
        "id": "WA13IPspfI87"
      }
    },
    {
      "cell_type": "code",
      "source": [
        "data = pd.read_csv('cdd.csv')"
      ],
      "metadata": {
        "id": "JbnrBthTfHuf"
      },
      "execution_count": 19,
      "outputs": []
    },
    {
      "cell_type": "markdown",
      "source": [
        "## Split the Dataset"
      ],
      "metadata": {
        "id": "ap026sKYfVaZ"
      }
    },
    {
      "cell_type": "code",
      "source": [
        "X = data.drop('Class', axis=1)\n",
        "y = data['Class']\n",
        "X_train, X_test, y_train, y_test = train_test_split(X, y, test_size=0.2, random_state=42)"
      ],
      "metadata": {
        "id": "TPMUrov5fTFy"
      },
      "execution_count": 20,
      "outputs": []
    },
    {
      "cell_type": "markdown",
      "source": [
        "## Apply Random Forest Model"
      ],
      "metadata": {
        "id": "6v59x9lpfckM"
      }
    },
    {
      "cell_type": "code",
      "source": [
        "random_forest_model = RandomForestClassifier(random_state=42)\n",
        "random_forest_model.fit(X_train, y_train)\n",
        "y_pred_rf = random_forest_model.predict(X_test)\n",
        "\n",
        "accuracy_rf = accuracy_score(y_test, y_pred_rf)\n",
        "conf_matrix_rf = confusion_matrix(y_test, y_pred_rf)\n",
        "classification_rep_rf = classification_report(y_test, y_pred_rf)\n",
        "print(\"Random Forest Model:\")\n",
        "print(f\"Accuracy: {accuracy_rf:.2f}\")\n",
        "print(f\"Confusion Matrix:\\n{conf_matrix_rf}\")\n",
        "print(f\"Classification Report:\\n{classification_rep_rf}\")\n",
        "print(\"-\" * 50)"
      ],
      "metadata": {
        "colab": {
          "base_uri": "https://localhost:8080/"
        },
        "id": "Op0g6e13ftd0",
        "outputId": "b4e32c08-0a6d-4cc6-ac61-7f348b52c804"
      },
      "execution_count": 21,
      "outputs": [
        {
          "output_type": "stream",
          "name": "stdout",
          "text": [
            "Random Forest Model:\n",
            "Accuracy: 0.97\n",
            "Confusion Matrix:\n",
            "[[18  1]\n",
            " [ 0 21]]\n",
            "Classification Report:\n",
            "              precision    recall  f1-score   support\n",
            "\n",
            "           0       1.00      0.95      0.97        19\n",
            "           1       0.95      1.00      0.98        21\n",
            "\n",
            "    accuracy                           0.97        40\n",
            "   macro avg       0.98      0.97      0.97        40\n",
            "weighted avg       0.98      0.97      0.97        40\n",
            "\n",
            "--------------------------------------------------\n"
          ]
        }
      ]
    },
    {
      "cell_type": "markdown",
      "source": [
        "## Apply Logistic Regression Model"
      ],
      "metadata": {
        "id": "T92U6B5zgL72"
      }
    },
    {
      "cell_type": "code",
      "source": [
        "logistic_regression_model = LogisticRegression(random_state=42)\n",
        "logistic_regression_model.fit(X_train, y_train)\n",
        "y_pred_lr = logistic_regression_model.predict(X_test)\n",
        "\n",
        "accuracy_lr = accuracy_score(y_test, y_pred_lr)\n",
        "conf_matrix_lr = confusion_matrix(y_test, y_pred_lr)\n",
        "classification_rep_lr = classification_report(y_test, y_pred_lr)\n",
        "print(\"Logistic Regression Model:\")\n",
        "print(f\"Accuracy: {accuracy_lr:.2f}\")\n",
        "print(f\"Confusion Matrix:\\n{conf_matrix_lr}\")\n",
        "print(f\"Classification Report:\\n{classification_rep_lr}\")\n",
        "print(\"-\" * 50)\n",
        "logistic_regression_model = LogisticRegression(random_state=42)\n",
        "logistic_regression_model.fit(X_train, y_train)\n",
        "y_pred_lr = logistic_regression_model.predict(X_test)\n",
        "\n",
        "accuracy_lr = accuracy_score(y_test, y_pred_lr)\n",
        "conf_matrix_lr = confusion_matrix(y_test, y_pred_lr)\n",
        "classification_rep_lr = classification_report(y_test, y_pred_lr)\n",
        "print(\"Logistic Regression Model:\")\n",
        "print(f\"Accuracy: {accuracy_lr:.2f}\")\n",
        "print(f\"Confusion Matrix:\\n{conf_matrix_lr}\")\n",
        "print(f\"Classification Report:\\n{classification_rep_lr}\")\n",
        "print(\"-\" * 50)"
      ],
      "metadata": {
        "colab": {
          "base_uri": "https://localhost:8080/"
        },
        "id": "T4HXmqLefv6s",
        "outputId": "f485e81e-5de6-4765-c2d9-57f158d193ca"
      },
      "execution_count": 22,
      "outputs": [
        {
          "output_type": "stream",
          "name": "stdout",
          "text": [
            "Logistic Regression Model:\n",
            "Accuracy: 0.93\n",
            "Confusion Matrix:\n",
            "[[17  2]\n",
            " [ 1 20]]\n",
            "Classification Report:\n",
            "              precision    recall  f1-score   support\n",
            "\n",
            "           0       0.94      0.89      0.92        19\n",
            "           1       0.91      0.95      0.93        21\n",
            "\n",
            "    accuracy                           0.93        40\n",
            "   macro avg       0.93      0.92      0.92        40\n",
            "weighted avg       0.93      0.93      0.92        40\n",
            "\n",
            "--------------------------------------------------\n",
            "Logistic Regression Model:\n",
            "Accuracy: 0.93\n",
            "Confusion Matrix:\n",
            "[[17  2]\n",
            " [ 1 20]]\n",
            "Classification Report:\n",
            "              precision    recall  f1-score   support\n",
            "\n",
            "           0       0.94      0.89      0.92        19\n",
            "           1       0.91      0.95      0.93        21\n",
            "\n",
            "    accuracy                           0.93        40\n",
            "   macro avg       0.93      0.92      0.92        40\n",
            "weighted avg       0.93      0.93      0.92        40\n",
            "\n",
            "--------------------------------------------------\n"
          ]
        },
        {
          "output_type": "stream",
          "name": "stderr",
          "text": [
            "/usr/local/lib/python3.10/dist-packages/sklearn/linear_model/_logistic.py:465: ConvergenceWarning: lbfgs failed to converge (status=1):\n",
            "STOP: TOTAL NO. of ITERATIONS REACHED LIMIT.\n",
            "\n",
            "Increase the number of iterations (max_iter) or scale the data as shown in:\n",
            "    https://scikit-learn.org/stable/modules/preprocessing.html\n",
            "Please also refer to the documentation for alternative solver options:\n",
            "    https://scikit-learn.org/stable/modules/linear_model.html#logistic-regression\n",
            "  n_iter_i = _check_optimize_result(\n",
            "/usr/local/lib/python3.10/dist-packages/sklearn/linear_model/_logistic.py:465: ConvergenceWarning: lbfgs failed to converge (status=1):\n",
            "STOP: TOTAL NO. of ITERATIONS REACHED LIMIT.\n",
            "\n",
            "Increase the number of iterations (max_iter) or scale the data as shown in:\n",
            "    https://scikit-learn.org/stable/modules/preprocessing.html\n",
            "Please also refer to the documentation for alternative solver options:\n",
            "    https://scikit-learn.org/stable/modules/linear_model.html#logistic-regression\n",
            "  n_iter_i = _check_optimize_result(\n"
          ]
        }
      ]
    },
    {
      "cell_type": "markdown",
      "source": [
        "## Apply Support Vector Machine (SVM) Model"
      ],
      "metadata": {
        "id": "qVomxTjTgV0D"
      }
    },
    {
      "cell_type": "code",
      "source": [
        "svm_model = SVC(random_state=42)\n",
        "svm_model.fit(X_train, y_train)\n",
        "y_pred_svm = svm_model.predict(X_test)\n",
        "\n",
        "accuracy_svm = accuracy_score(y_test, y_pred_svm)\n",
        "conf_matrix_svm = confusion_matrix(y_test, y_pred_svm)\n",
        "classification_rep_svm = classification_report(y_test, y_pred_svm)\n",
        "print(\"Support Vector Machine (SVM) Model:\")\n",
        "print(f\"Accuracy: {accuracy_svm:.2f}\")\n",
        "print(f\"Confusion Matrix:\\n{conf_matrix_svm}\")\n",
        "print(f\"Classification Report:\\n{classification_rep_svm}\")\n",
        "print(\"-\" * 50)"
      ],
      "metadata": {
        "colab": {
          "base_uri": "https://localhost:8080/"
        },
        "id": "bu69XrGAgQSJ",
        "outputId": "f4c35a59-589d-4d9e-f696-cf7053b6fd62"
      },
      "execution_count": 23,
      "outputs": [
        {
          "output_type": "stream",
          "name": "stdout",
          "text": [
            "Support Vector Machine (SVM) Model:\n",
            "Accuracy: 0.93\n",
            "Confusion Matrix:\n",
            "[[18  1]\n",
            " [ 2 19]]\n",
            "Classification Report:\n",
            "              precision    recall  f1-score   support\n",
            "\n",
            "           0       0.90      0.95      0.92        19\n",
            "           1       0.95      0.90      0.93        21\n",
            "\n",
            "    accuracy                           0.93        40\n",
            "   macro avg       0.93      0.93      0.92        40\n",
            "weighted avg       0.93      0.93      0.93        40\n",
            "\n",
            "--------------------------------------------------\n"
          ]
        }
      ]
    },
    {
      "cell_type": "markdown",
      "source": [
        "## Apply K-Nearest Neighbors (KNN) Model"
      ],
      "metadata": {
        "id": "V6S9p8k5geBh"
      }
    },
    {
      "cell_type": "code",
      "source": [
        "knn_model = KNeighborsClassifier()\n",
        "knn_model.fit(X_train, y_train)\n",
        "y_pred_knn = knn_model.predict(X_test)\n",
        "accuracy_knn = accuracy_score(y_test, y_pred_knn)\n",
        "conf_matrix_knn = confusion_matrix(y_test, y_pred_knn)\n",
        "classification_rep_knn = classification_report(y_test, y_pred_knn)\n",
        "print(\"K-Nearest Neighbors (KNN) Model:\")\n",
        "print(f\"Accuracy: {accuracy_knn:.2f}\")\n",
        "print(f\"Confusion Matrix:\\n{conf_matrix_knn}\")\n",
        "print(f\"Classification Report:\\n{classification_rep_knn}\")"
      ],
      "metadata": {
        "colab": {
          "base_uri": "https://localhost:8080/"
        },
        "id": "65qcnCxrgbS-",
        "outputId": "ee67fbf1-0b83-41e4-8652-ec48f018ce6b"
      },
      "execution_count": 24,
      "outputs": [
        {
          "output_type": "stream",
          "name": "stdout",
          "text": [
            "K-Nearest Neighbors (KNN) Model:\n",
            "Accuracy: 0.93\n",
            "Confusion Matrix:\n",
            "[[16  3]\n",
            " [ 0 21]]\n",
            "Classification Report:\n",
            "              precision    recall  f1-score   support\n",
            "\n",
            "           0       1.00      0.84      0.91        19\n",
            "           1       0.88      1.00      0.93        21\n",
            "\n",
            "    accuracy                           0.93        40\n",
            "   macro avg       0.94      0.92      0.92        40\n",
            "weighted avg       0.93      0.93      0.92        40\n",
            "\n"
          ]
        }
      ]
    },
    {
      "cell_type": "markdown",
      "source": [
        "## Taking User Input"
      ],
      "metadata": {
        "id": "70kccVF-gkqc"
      }
    },
    {
      "cell_type": "code",
      "source": [
        "# Taking input from the user\n",
        "print(\"Please enter values for the features to predict the class:\")\n",
        "feature_names = X.columns.tolist()\n",
        "user_input = []\n",
        "for feature in feature_names:\n",
        "    value = float(input(f\"Enter value for {feature}: \"))\n",
        "    user_input.append(value)\n",
        "\n",
        "# Predicting using the trained model\n",
        "predicted_class = random_forest_model.predict([user_input])\n",
        "print(f\"The predicted class is: {predicted_class[0]} So it is Fraud .....\")"
      ],
      "metadata": {
        "colab": {
          "base_uri": "https://localhost:8080/"
        },
        "id": "GNWTxQnqgh8r",
        "outputId": "a6a59025-7b5e-4076-dbae-b46e458fc3eb"
      },
      "execution_count": 25,
      "outputs": [
        {
          "output_type": "stream",
          "name": "stdout",
          "text": [
            "Please enter values for the features to predict the class:\n",
            "Enter value for Time: 12.369\n",
            "Enter value for V1: 1.0\n",
            "Enter value for V2: 2.0\n",
            "Enter value for V3: 3.0\n",
            "Enter value for V4: 4.0\n",
            "Enter value for V5: 5.0\n",
            "Enter value for V6: 6.0\n",
            "Enter value for V7: 7.0\n",
            "Enter value for V8: 8.0\n",
            "Enter value for V9: 9.0\n",
            "Enter value for V10: 10.0\n",
            "Enter value for V11: 1.1\n",
            "Enter value for V12: 1.2\n",
            "Enter value for V13: 1.3\n",
            "Enter value for V14: 1.4\n",
            "Enter value for V15: 1.5\n",
            "Enter value for V16: 1.6\n",
            "Enter value for V17: 1.7\n",
            "Enter value for V18: 1.8\n",
            "Enter value for V19: 1.9\n",
            "Enter value for V20: 2.0\n",
            "Enter value for V21: 2.1\n",
            "Enter value for V22: 2.2\n",
            "Enter value for V23: 2.3\n",
            "Enter value for V24: 2.4\n",
            "Enter value for V25: 2.5\n",
            "Enter value for V26: 2.6\n",
            "Enter value for V27: 2.7\n",
            "Enter value for V28: 2.8\n",
            "Enter value for Amount: 8500425\n",
            "The predicted class is: 1 So it is Fraud .....\n"
          ]
        },
        {
          "output_type": "stream",
          "name": "stderr",
          "text": [
            "/usr/local/lib/python3.10/dist-packages/sklearn/utils/validation.py:2739: UserWarning: X does not have valid feature names, but RandomForestClassifier was fitted with feature names\n",
            "  warnings.warn(\n"
          ]
        }
      ]
    }
  ]
}